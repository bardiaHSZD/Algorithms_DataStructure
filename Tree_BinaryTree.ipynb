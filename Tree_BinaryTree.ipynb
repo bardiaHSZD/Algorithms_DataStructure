{
  "nbformat": 4,
  "nbformat_minor": 0,
  "metadata": {
    "colab": {
      "name": "Tree_BinaryTree.ipynb",
      "provenance": [],
      "collapsed_sections": [],
      "authorship_tag": "ABX9TyO15Z/IGX2iEFIzM8NzL3Ou",
      "include_colab_link": true
    },
    "kernelspec": {
      "display_name": "Python 3",
      "name": "python3"
    },
    "language_info": {
      "name": "python"
    }
  },
  "cells": [
    {
      "cell_type": "markdown",
      "metadata": {
        "id": "view-in-github",
        "colab_type": "text"
      },
      "source": [
        "<a href=\"https://colab.research.google.com/github/bardiaHSZD/Algorithms_DataStructure/blob/main/Tree_BinaryTree.ipynb\" target=\"_parent\"><img src=\"https://colab.research.google.com/assets/colab-badge.svg\" alt=\"Open In Colab\"/></a>"
      ]
    },
    {
      "cell_type": "markdown",
      "metadata": {
        "id": "ygUUhzRsQf_X"
      },
      "source": [
        "# **Trees and Binary Trees**"
      ]
    },
    {
      "cell_type": "markdown",
      "metadata": {
        "id": "JqO0DttF6vKM"
      },
      "source": [
        "## **Introduction**"
      ]
    },
    {
      "cell_type": "markdown",
      "metadata": {
        "id": "pzByWZn5mIoa"
      },
      "source": [
        "### **What is  and Why Binary Tree?**"
      ]
    },
    {
      "cell_type": "markdown",
      "metadata": {
        "id": "NA9-wzXJmI1u"
      },
      "source": [
        "### **Tree Terminology**"
      ]
    },
    {
      "cell_type": "markdown",
      "metadata": {
        "id": "XtoxmghXq80o"
      },
      "source": [
        "## **Examples**"
      ]
    },
    {
      "cell_type": "markdown",
      "metadata": {
        "id": "JrWP8UvZZeMk"
      },
      "source": [
        "### **Create Basic Tree**"
      ]
    },
    {
      "cell_type": "markdown",
      "metadata": {
        "id": "9VzOkOR6vR2_"
      },
      "source": [
        "### **Binary Tree**"
      ]
    },
    {
      "cell_type": "markdown",
      "metadata": {
        "id": "HaXF_zMBvWZZ"
      },
      "source": [
        "### **Create Binary Tree**"
      ]
    },
    {
      "cell_type": "markdown",
      "metadata": {
        "id": "Ztd-vtejkSzI"
      },
      "source": [
        "### **Create Binary Tree (Linked List)**"
      ]
    },
    {
      "cell_type": "markdown",
      "metadata": {
        "id": "rKdd6aqRkTFL"
      },
      "source": [
        "### **PreOrder Traversal Binary Tree (Linked List)**"
      ]
    },
    {
      "cell_type": "markdown",
      "metadata": {
        "id": "-7ppE01NkTOe"
      },
      "source": [
        "### **InOrder Traversal Binary Tree (Linked List)**"
      ]
    },
    {
      "cell_type": "markdown",
      "metadata": {
        "id": "_9LV5EfSkTX8"
      },
      "source": [
        "### **PostOrder Traversal Binary Tree (Linked List)**"
      ]
    },
    {
      "cell_type": "markdown",
      "metadata": {
        "id": "7GfVHY_lkniW"
      },
      "source": [
        "### **PostOrder Traversal Binary Tree (Linked List)**"
      ]
    },
    {
      "cell_type": "markdown",
      "metadata": {
        "id": "lzNStlnzknr8"
      },
      "source": [
        "### **LevelOrder Traversal Binary Tree (Linked List)**"
      ]
    },
    {
      "cell_type": "markdown",
      "metadata": {
        "id": "eT9zMeg0knxl"
      },
      "source": [
        "### **Searching for a node in Binary Tree (Linked List)**"
      ]
    },
    {
      "cell_type": "markdown",
      "metadata": {
        "id": "EauZnvlBkn4-"
      },
      "source": [
        "### **Inserting a Node in Binary Tree (Linked List)**"
      ]
    },
    {
      "cell_type": "markdown",
      "metadata": {
        "id": "CjEd_yrckn-D"
      },
      "source": [
        "### **Deleting a Node from Binary Tree (Linked List)**"
      ]
    },
    {
      "cell_type": "markdown",
      "metadata": {
        "id": "uZ6Ha87YkoFf"
      },
      "source": [
        "### **Create Binary Tree (Python List)**"
      ]
    },
    {
      "cell_type": "markdown",
      "metadata": {
        "id": "mzqsPlaJlDVY"
      },
      "source": [
        "### **Insert a Value in Binary Tree (Python List)**"
      ]
    },
    {
      "cell_type": "markdown",
      "metadata": {
        "id": "X3qZY-4klDdS"
      },
      "source": [
        "### **Search for a Node in Binary Tree (Python List)**"
      ]
    },
    {
      "cell_type": "markdown",
      "metadata": {
        "id": "iAKc7ra1lDjq"
      },
      "source": [
        "### **PreOrder Traversal Binary Tree (Python List)**"
      ]
    },
    {
      "cell_type": "markdown",
      "metadata": {
        "id": "YNZigeE4liMx"
      },
      "source": [
        "### **InOrder Traversal Binary Tree (Python List)**"
      ]
    },
    {
      "cell_type": "markdown",
      "metadata": {
        "id": "dA1yXQr5liS-"
      },
      "source": [
        "### **PostOrder Traversal Binary Tree (Python List)**"
      ]
    },
    {
      "cell_type": "markdown",
      "metadata": {
        "id": "UGJ1ib0lliZI"
      },
      "source": [
        "### **LevelOrder Traversal Binary Tree (Python List)**"
      ]
    },
    {
      "cell_type": "markdown",
      "metadata": {
        "id": "krIOM8T2lyj2"
      },
      "source": [
        "### **Deleting a Node from Binary Tree (Python List)**"
      ]
    },
    {
      "cell_type": "markdown",
      "metadata": {
        "id": "eFm4hv4ylyuQ"
      },
      "source": [
        "### **Delete Entire Binary Tree (Python List)**"
      ]
    },
    {
      "cell_type": "markdown",
      "metadata": {
        "id": "ixPCwdvbly2Z"
      },
      "source": [
        "### **Linked List vs Python List Binary Tree**"
      ]
    }
  ]
}