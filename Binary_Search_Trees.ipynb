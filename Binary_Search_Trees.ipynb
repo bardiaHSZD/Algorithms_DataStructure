{
  "nbformat": 4,
  "nbformat_minor": 0,
  "metadata": {
    "colab": {
      "name": "Binary Search Trees.ipynb",
      "provenance": [],
      "collapsed_sections": [
        "GAi5HXp35Vxk",
        "xBhKKIF_5ZU4",
        "jb8FMulk5cNn",
        "Tc9hwiKn5i7S",
        "1F4BX4Iv5rQH"
      ],
      "authorship_tag": "ABX9TyPKyecOpnz0ksQn8wUFPCEW",
      "include_colab_link": true
    },
    "kernelspec": {
      "name": "python3",
      "display_name": "Python 3"
    },
    "language_info": {
      "name": "python"
    }
  },
  "cells": [
    {
      "cell_type": "markdown",
      "metadata": {
        "id": "view-in-github",
        "colab_type": "text"
      },
      "source": [
        "<a href=\"https://colab.research.google.com/github/bardiaHSZD/Algorithms_DataStructure/blob/main/Binary_Search_Trees.ipynb\" target=\"_parent\"><img src=\"https://colab.research.google.com/assets/colab-badge.svg\" alt=\"Open In Colab\"/></a>"
      ]
    },
    {
      "cell_type": "markdown",
      "source": [
        "##**Binary Search Trees**"
      ],
      "metadata": {
        "id": "3oZntgn44_se"
      }
    },
    {
      "cell_type": "markdown",
      "source": [
        "###**1. What is a Binary Search Tree Why do we need it**"
      ],
      "metadata": {
        "id": "GAi5HXp35Vxk"
      }
    },
    {
      "cell_type": "markdown",
      "source": [
        "###**2. Create a Binary Search Tree**"
      ],
      "metadata": {
        "id": "W2BpOmwW6aYj"
      }
    },
    {
      "cell_type": "markdown",
      "source": [
        "###**3. Insert a node to BST**"
      ],
      "metadata": {
        "id": "v-zCLce96bNn"
      }
    },
    {
      "cell_type": "markdown",
      "source": [
        "###**4. Traverse BST**"
      ],
      "metadata": {
        "id": "-DwcG35i6cVQ"
      }
    },
    {
      "cell_type": "markdown",
      "source": [
        "###**5. Search in BST**"
      ],
      "metadata": {
        "id": "YPMotH8K6dMY"
      }
    },
    {
      "cell_type": "markdown",
      "source": [
        "###**6. Delete a node from BST**"
      ],
      "metadata": {
        "id": "shCWHSmb6vXq"
      }
    },
    {
      "cell_type": "markdown",
      "source": [
        "###**7. Delete entire BST**"
      ],
      "metadata": {
        "id": "ZfS0NNkb6wNZ"
      }
    },
    {
      "cell_type": "code",
      "source": [
        "class Node:\n",
        "    def __init__(self, value=None):\n",
        "        self.value = value\n",
        "        self.next = None\n",
        "    \n",
        "    def __str__(self):\n",
        "        return str(self.value)\n",
        "\n",
        "class LinkedList:\n",
        "    def __init__(self):\n",
        "        self.head = None\n",
        "        self.tail = None\n",
        "    \n",
        "    \n",
        "\n",
        "class Queue:\n",
        "    def __init__(self):\n",
        "        self.linkedList = LinkedList()\n",
        "    \n",
        "    def __str__(self):\n",
        "        values = [str(x) for x in self.linkedList]\n",
        "        return ' '.join(values)\n",
        "    \n",
        "    def enqueue(self, value):\n",
        "        newNode = Node(value)\n",
        "        if self.linkedList.head == None:\n",
        "            self.linkedList.head = newNode\n",
        "            self.linkedList.tail = newNode\n",
        "        else:\n",
        "            self.linkedList.tail.next = newNode\n",
        "            self.linkedList.tail = newNode\n",
        "    \n",
        "    def isEmpty(self):\n",
        "        if self.linkedList.head == None:\n",
        "            return True\n",
        "        else:\n",
        "            return False\n",
        "    \n",
        "    def dequeue(self):\n",
        "        if self.isEmpty():\n",
        "            return \"There is not any node in the Queue\"\n",
        "        else:\n",
        "            tempNode = self.linkedList.head\n",
        "            if self.linkedList.head == self.linkedList.tail:\n",
        "                self.linkedList.head = None\n",
        "                self.linkedList.tail = None\n",
        "            else:\n",
        "                self.linkedList.head = self.linkedList.head.next\n",
        "            return tempNode\n",
        "    \n",
        "    def peek(self):\n",
        "        if self.isEmpty():\n",
        "            return \"There is not any node in the Queue\"\n",
        "        else:\n",
        "            return self.linkedList.head\n",
        "    \n",
        "    def delete(self):\n",
        "        self.linkedList.head = None\n",
        "        self.linkedList.tail = None\n",
        "\n",
        "\n",
        "\n",
        "\n",
        "# custQueue = Queue()\n",
        "# custQueue.enqueue(1)\n",
        "# custQueue.enqueue(2)\n",
        "# custQueue.enqueue(3)\n",
        "# print(custQueue)\n",
        "# print(custQueue.peek())\n",
        "# print(custQueue)"
      ],
      "metadata": {
        "id": "1_2pzPWCALHQ"
      },
      "execution_count": null,
      "outputs": []
    },
    {
      "cell_type": "code",
      "source": [
        "class BSTNode:\n",
        "    def __init__(self, data):\n",
        "        self.data = data\n",
        "        self.leftChild = None\n",
        "        self.rightChild = None\n",
        "\n",
        "def insertNode(rootNode, nodeValue):\n",
        "    if rootNode.data == None:\n",
        "        rootNode.data = nodeValue\n",
        "    elif nodeValue <= rootNode.data:\n",
        "        if rootNode.leftChild is None:\n",
        "            rootNode.leftChild = BSTNode(nodeValue)\n",
        "        else:\n",
        "            insertNode(rootNode.leftChild, nodeValue)\n",
        "    else:\n",
        "        if rootNode.rightChild is None:\n",
        "            rootNode.rightChild = BSTNode(nodeValue)\n",
        "        else:\n",
        "            insertNode(rootNode.rightChild, nodeValue)\n",
        "    return \"The node has been successfully inserted\"\n",
        "\n",
        "def preOrderTraversal(rootNode):\n",
        "    if not rootNode:\n",
        "        return\n",
        "    print(rootNode.data)\n",
        "    preOrderTraversal(rootNode.leftChild)\n",
        "    preOrderTraversal(rootNode.rightChild)\n",
        "\n",
        "def inOrderTraversal(rootNode):\n",
        "    if not rootNode:\n",
        "        return\n",
        "    inOrderTraversal(rootNode.leftChild)\n",
        "    print(rootNode.data)\n",
        "    inOrderTraversal(rootNode.rightChild)\n",
        "\n",
        "def postOrderTraversal(rootNode):\n",
        "    if not rootNode:\n",
        "        return\n",
        "    postOrderTraversal(rootNode.leftChild)\n",
        "    postOrderTraversal(rootNode.rightChild)\n",
        "    print(rootNode.data)\n",
        "\n",
        "def levelOrderTraversal(rootNode):\n",
        "    if not rootNode:\n",
        "        return\n",
        "    else:\n",
        "        customQueue = Queue()\n",
        "        customQueue.enqueue(rootNode)\n",
        "        while not(customQueue.isEmpty()):\n",
        "            root = customQueue.dequeue()\n",
        "            print(root.value.data)\n",
        "            if root.value.leftChild is not None:\n",
        "                customQueue.enqueue(root.value.leftChild)\n",
        "            if root.value.rightChild is not None:\n",
        "                customQueue.enqueue(root.value.rightChild)\n",
        "            \n",
        "\n",
        "def searchNode(rootNode, nodeValue):\n",
        "    if rootNode.data == nodeValue:\n",
        "        print(\"The value is found\")\n",
        "    elif nodeValue < rootNode.data:\n",
        "        if rootNode.leftChild.data == nodeValue:\n",
        "            print(\"The value is found\")\n",
        "        else:\n",
        "            searchNode(rootNode.leftChild, nodeValue)\n",
        "    else:\n",
        "        if rootNode.rightChild.data == nodeValue:\n",
        "            print(\"The value is found\")\n",
        "        else:\n",
        "            searchNode(rootNode.rightChild, nodeValue)\n",
        "\n",
        "\n",
        "def minValueNode(bstNode):\n",
        "    current = bstNode\n",
        "    while (current.leftChild is not None):\n",
        "        current = current.leftChild\n",
        "    return current\n",
        "\n",
        "\n",
        "def deleteNode(rootNode, nodeValue):\n",
        "    if rootNode is None:\n",
        "        return rootNode\n",
        "    if nodeValue < rootNode.data:\n",
        "        rootNode.leftChild = deleteNode(rootNode.leftChild, nodeValue)\n",
        "    elif nodeValue > rootNode.data:\n",
        "        rootNode.rightChild = deleteNode(rootNode.rightChild, nodeValue)\n",
        "    else:\n",
        "        if rootNode.leftChild is None:\n",
        "            temp = rootNode.rightChild\n",
        "            rootNode = None\n",
        "            return temp\n",
        "        \n",
        "        if rootNode.rightChild is None:\n",
        "            temp = rootNode.leftChild\n",
        "            rootNode = None\n",
        "            return temp\n",
        "        \n",
        "        temp = minValueNode(rootNode.rightChild)\n",
        "        rootNode.data = temp.data \n",
        "        rootNode.rightChild = deleteNode(rootNode.rightChild, temp.data)\n",
        "    return rootNode\n",
        "\n",
        "def deleteBST(rootNode):\n",
        "    rootNode.data = None\n",
        "    rootNode.leftChild = None\n",
        "    rootNode.rightChild = None\n",
        "    return \"The BST has been successfully deleted\"\n",
        "\n",
        "\n",
        "\n",
        "newBST = BSTNode(None)\n",
        "insertNode(newBST, 70)\n",
        "insertNode(newBST,50)\n",
        "insertNode(newBST,90)\n",
        "insertNode(newBST, 30)\n",
        "insertNode(newBST,60)\n",
        "insertNode(newBST,80)\n",
        "insertNode(newBST,100)\n",
        "insertNode(newBST,20)\n",
        "insertNode(newBST,40)\n",
        "print(deleteBST(newBST))\n",
        "levelOrderTraversal(newBST)"
      ],
      "metadata": {
        "id": "xVsE_U3OCE7b"
      },
      "execution_count": null,
      "outputs": []
    },
    {
      "cell_type": "markdown",
      "source": [
        "###**8. Time and Space complexity of BST**"
      ],
      "metadata": {
        "id": "fNoPeBxd6yaC"
      }
    }
  ]
}