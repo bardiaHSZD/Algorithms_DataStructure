{
  "nbformat": 4,
  "nbformat_minor": 0,
  "metadata": {
    "colab": {
      "name": "Divide and Conquer.ipynb",
      "provenance": [],
      "collapsed_sections": [],
      "authorship_tag": "ABX9TyOPoISa/j8TIwGTkNhukcgn",
      "include_colab_link": true
    },
    "kernelspec": {
      "name": "python3",
      "display_name": "Python 3"
    },
    "language_info": {
      "name": "python"
    }
  },
  "cells": [
    {
      "cell_type": "markdown",
      "metadata": {
        "id": "view-in-github",
        "colab_type": "text"
      },
      "source": [
        "<a href=\"https://colab.research.google.com/github/bardiaHSZD/Algorithms_DataStructure/blob/main/Divide_and_Conquer.ipynb\" target=\"_parent\"><img src=\"https://colab.research.google.com/assets/colab-badge.svg\" alt=\"Open In Colab\"/></a>"
      ]
    },
    {
      "cell_type": "markdown",
      "source": [
        "##**Divide and Conquer**"
      ],
      "metadata": {
        "id": "3oZntgn44_se"
      }
    },
    {
      "cell_type": "markdown",
      "source": [
        "###**1. What is a Divide and Conquer Algorithm**"
      ],
      "metadata": {
        "id": "IPIkT31olLCH"
      }
    },
    {
      "cell_type": "markdown",
      "source": [
        "###**2. Common Divide and Conquer algorithms**"
      ],
      "metadata": {
        "id": "3kk6E9K1lTkR"
      }
    },
    {
      "cell_type": "markdown",
      "source": [
        "###**3. How to solve Fibonacci series using Divide and Conquer approach**"
      ],
      "metadata": {
        "id": "pHXCNEWslTuC"
      }
    },
    {
      "cell_type": "markdown",
      "source": [
        "###**4. Number Factor**"
      ],
      "metadata": {
        "id": "_xBDnSL4lTyE"
      }
    },
    {
      "cell_type": "markdown",
      "source": [
        "###**5. Number Factor in Python**"
      ],
      "metadata": {
        "id": "PH1hYHWPlT1T"
      }
    },
    {
      "cell_type": "markdown",
      "source": [
        "###**6. House Robber**"
      ],
      "metadata": {
        "id": "A6jASpVglT4V"
      }
    },
    {
      "cell_type": "markdown",
      "source": [
        "###**7. House Robber Problem in Python**"
      ],
      "metadata": {
        "id": "V0o-hxYhlT7U"
      }
    },
    {
      "cell_type": "markdown",
      "source": [
        "###**8. Convert one string to another**"
      ],
      "metadata": {
        "id": "BiSjTKQslT_e"
      }
    },
    {
      "cell_type": "markdown",
      "source": [
        "###**9. Convert One String to another in Python**"
      ],
      "metadata": {
        "id": "eRpaYB7z6Rfz"
      }
    },
    {
      "cell_type": "markdown",
      "source": [
        "###**10. Zero One Knapsack problem**"
      ],
      "metadata": {
        "id": "kO8NO1vq6SUD"
      }
    },
    {
      "cell_type": "markdown",
      "source": [
        "###**11. Zero One Knapsack problem in Python**"
      ],
      "metadata": {
        "id": "o8Wn-WN-6SXJ"
      }
    },
    {
      "cell_type": "markdown",
      "source": [
        "###**12. Longest Common Sequence Problem**"
      ],
      "metadata": {
        "id": "7kdGrWv46SaZ"
      }
    },
    {
      "cell_type": "markdown",
      "source": [
        "###**13. Longest Common Subsequence in Python**"
      ],
      "metadata": {
        "id": "NzooBQY06Sdq"
      }
    },
    {
      "cell_type": "markdown",
      "source": [
        "###**14. Longest Palindromic Subsequence Problem**"
      ],
      "metadata": {
        "id": "9yciEs0d6Sgr"
      }
    },
    {
      "cell_type": "markdown",
      "source": [
        "###**15. Longest Palindromic Subsequence in Python**"
      ],
      "metadata": {
        "id": "riFb1Yhe6Sjd"
      }
    },
    {
      "cell_type": "markdown",
      "source": [
        "###**16. Minimum cost to reach the Last cell problem**"
      ],
      "metadata": {
        "id": "V-X0sDF06wTr"
      }
    },
    {
      "cell_type": "markdown",
      "source": [
        "###**17. Minimum Cost to reach the Last Cell in 2D array using Python**"
      ],
      "metadata": {
        "id": "nMR9-Z4b60dT"
      }
    },
    {
      "cell_type": "markdown",
      "source": [
        "###**18. Number of Ways to reach the Last Cell with given Cost**"
      ],
      "metadata": {
        "id": "7cdMdEds65dc"
      }
    },
    {
      "cell_type": "markdown",
      "source": [
        "###**19. Number of Ways to reach the Last Cell with given Cost in Python**"
      ],
      "metadata": {
        "id": "KiRCdTvC69O5"
      }
    }
  ]
}