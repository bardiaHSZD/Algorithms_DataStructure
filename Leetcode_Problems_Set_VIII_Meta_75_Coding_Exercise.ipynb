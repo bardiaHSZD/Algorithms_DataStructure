{
  "nbformat": 4,
  "nbformat_minor": 0,
  "metadata": {
    "colab": {
      "name": "Leetcode Problems Set VIII: Meta 75 Coding Exercise.ipynb",
      "provenance": [],
      "authorship_tag": "ABX9TyMzXZYDpTr8bAAXeehl+Uu8",
      "include_colab_link": true
    },
    "kernelspec": {
      "name": "python3",
      "display_name": "Python 3"
    },
    "language_info": {
      "name": "python"
    }
  },
  "cells": [
    {
      "cell_type": "markdown",
      "metadata": {
        "id": "view-in-github",
        "colab_type": "text"
      },
      "source": [
        "<a href=\"https://colab.research.google.com/github/bardiaHSZD/Algorithms_DataStructure/blob/main/Leetcode_Problems_Set_VIII_Meta_75_Coding_Exercise.ipynb\" target=\"_parent\"><img src=\"https://colab.research.google.com/assets/colab-badge.svg\" alt=\"Open In Colab\"/></a>"
      ]
    },
    {
      "cell_type": "markdown",
      "source": [
        "##**Array**"
      ],
      "metadata": {
        "id": "xle2tEqKQVod"
      }
    },
    {
      "cell_type": "markdown",
      "source": [
        "- Two Sum - https://leetcode.com/problems/two-sum/\n",
        "- Best Time to Buy and Sell Stock - https://leetcode.com/problems/best-time-to-buy-and-sell-stock/\n",
        "- Contains Duplicate - https://leetcode.com/problems/contains-duplicate/\n",
        "- Product of Array Except Self - https://leetcode.com/problems/product-of-array-except-self/\n",
        "- Maximum Subarray - https://leetcode.com/problems/maximum-subarray/\n",
        "- Maximum Product Subarray - https://leetcode.com/problems/maximum-product-subarray/\n",
        "- Find Minimum in Rotated Sorted Array - https://leetcode.com/problems/find-minimum-in-rotated-sorted-array/\n",
        "- Search in Rotated Sorted Array - https://leetcode.com/problems/search-in-rotated-sorted-array/\n",
        "- 3Sum - https://leetcode.com/problems/3sum/\n",
        "- Container With Most Water - https://leetcode.com/problems/container-with-most-water/"
      ],
      "metadata": {
        "id": "Hwy9EI1jQQUU"
      }
    },
    {
      "cell_type": "markdown",
      "source": [
        "##**Binary**"
      ],
      "metadata": {
        "id": "iL_80ac5Q8T3"
      }
    },
    {
      "cell_type": "markdown",
      "source": [
        "- Sum of Two Integers - https://leetcode.com/problems/sum-of-two-integers/\n",
        "- Number of 1 Bits - https://leetcode.com/problems/number-of-1-bits/\n",
        "- Counting Bits - https://leetcode.com/problems/counting-bits/\n",
        "- Missing Number - https://leetcode.com/problems/missing-number/\n",
        "- Reverse Bits - https://leetcode.com/problems/reverse-bits/"
      ],
      "metadata": {
        "id": "YySO9bJrQpHT"
      }
    },
    {
      "cell_type": "markdown",
      "source": [
        "##**Dynamic Programming**"
      ],
      "metadata": {
        "id": "qJ7rOiBNRRQp"
      }
    },
    {
      "cell_type": "markdown",
      "source": [
        "- Climbing Stairs - https://leetcode.com/problems/climbing-stairs/\n",
        "- Coin Change - https://leetcode.com/problems/coin-change/\n",
        "- Longest Increasing Subsequence - https://leetcode.com/problems/longest-increasing-subsequence/\n",
        "- Longest Common Subsequence -\n",
        "- Word Break Problem - https://leetcode.com/problems/word-break/\n",
        "- Combination Sum - https://leetcode.com/problems/combination-sum-iv/\n",
        "- House Robber - https://leetcode.com/problems/house-robber/\n",
        "- House Robber II - https://leetcode.com/problems/house-robber-ii/\n",
        "- Decode Ways - https://leetcode.com/problems/decode-ways/\n",
        "- Unique Paths - https://leetcode.com/problems/unique-paths/\n",
        "- Jump Game - https://leetcode.com/problems/jump-game/"
      ],
      "metadata": {
        "id": "8rydVeWLRRje"
      }
    },
    {
      "cell_type": "markdown",
      "source": [
        "##**Graph**"
      ],
      "metadata": {
        "id": "RzlcelScRk2K"
      }
    },
    {
      "cell_type": "markdown",
      "source": [
        "- Clone Graph - https://leetcode.com/problems/clone-graph/\n",
        "- Course Schedule - https://leetcode.com/problems/course-schedule/\n",
        "- Pacific Atlantic Water Flow - https://leetcode.com/problems/pacific-atlantic-water-flow/\n",
        "- Number of Islands - https://leetcode.com/problems/number-of-islands/\n",
        "- Longest Consecutive Sequence - https://leetcode.com/problems/longest-consecutive-sequence/\n",
        "- Alien Dictionary (Leetcode Premium) - https://leetcode.com/problems/alien-dictionary/\n",
        "- Graph Valid Tree (Leetcode Premium) - https://leetcode.com/problems/graph-valid-tree/\n",
        "- Number of Connected Components in an Undirected Graph (Leetcode Premium) - https://leetcode.com/problems/number-of-connected-components-in-an-undirected-graph/\n"
      ],
      "metadata": {
        "id": "ztwzPfHTRlHp"
      }
    },
    {
      "cell_type": "markdown",
      "source": [
        "##**Interval**"
      ],
      "metadata": {
        "id": "Ei0P6WUUR8t1"
      }
    },
    {
      "cell_type": "markdown",
      "source": [
        "- Insert Interval - https://leetcode.com/problems/insert-interval/\n",
        "- Merge Intervals - https://leetcode.com/problems/merge-intervals/\n",
        "- Non-overlapping Intervals - https://leetcode.com/problems/non-overlapping-intervals/\n",
        "- Meeting Rooms (Leetcode Premium) - https://leetcode.com/problems/meeting-rooms/\n",
        "- Meeting Rooms II (Leetcode Premium) - https://leetcode.com/problems/meeting-rooms-ii/"
      ],
      "metadata": {
        "id": "JAe-dEmMR9TC"
      }
    },
    {
      "cell_type": "markdown",
      "source": [
        "##**Linked List**"
      ],
      "metadata": {
        "id": "YiMHxiBESHaT"
      }
    },
    {
      "cell_type": "markdown",
      "source": [
        "- Reverse a Linked List - https://leetcode.com/problems/reverse-linked-list/\n",
        "- Detect Cycle in a Linked List - https://leetcode.com/problems/linked-list-cycle/\n",
        "- Merge Two Sorted Lists - https://leetcode.com/problems/merge-two-sorted-lists/\n",
        "- Merge K Sorted Lists - https://leetcode.com/problems/merge-k-sorted-lists/\n",
        "- Remove Nth Node From End Of List - https://leetcode.com/problems/remove-nth-node-from-end-of-list/\n",
        "- Reorder List - https://leetcode.com/problems/reorder-list/\n"
      ],
      "metadata": {
        "id": "_vtVHlvOSHol"
      }
    },
    {
      "cell_type": "markdown",
      "source": [
        "##**Matrix**"
      ],
      "metadata": {
        "id": "kRYzLh_ISUN7"
      }
    },
    {
      "cell_type": "markdown",
      "source": [
        "- Set Matrix Zeroes - https://leetcode.com/problems/set-matrix-zeroes/\n",
        "- Spiral Matrix - https://leetcode.com/problems/spiral-matrix/\n",
        "- Rotate Image - https://leetcode.com/problems/rotate-image/\n",
        "- Word Search - https://leetcode.com/problems/word-search/"
      ],
      "metadata": {
        "id": "gBWSkn13SUmy"
      }
    },
    {
      "cell_type": "markdown",
      "source": [
        "##**String**"
      ],
      "metadata": {
        "id": "VY23y4mGSly2"
      }
    },
    {
      "cell_type": "markdown",
      "source": [
        "- Longest Substring Without Repeating Characters - https://leetcode.com/problems/longest-substring-without-repeating-characters/\n",
        "- Longest Repeating Character Replacement - https://leetcode.com/problems/longest-repeating-character-replacement/\n",
        "- Minimum Window Substring - https://leetcode.com/problems/minimum-window-substring/\n",
        "- Valid Anagram - https://leetcode.com/problems/valid-anagram/\n",
        "- Group Anagrams - https://leetcode.com/problems/group-anagrams/\n",
        "- Valid Parentheses - https://leetcode.com/problems/valid-parentheses/\n",
        "- Valid Palindrome - https://leetcode.com/problems/valid-palindrome/\n",
        "- Longest Palindromic Substring - https://leetcode.com/problems/longest-palindromic-substring/\n",
        "- Palindromic Substrings - https://leetcode.com/problems/palindromic-substrings/\n",
        "- Encode and Decode Strings (Leetcode Premium) - https://leetcode.com/problems/encode-and-decode-strings/"
      ],
      "metadata": {
        "id": "6jA0xNWfSmJY"
      }
    },
    {
      "cell_type": "markdown",
      "source": [
        "##**Tree**"
      ],
      "metadata": {
        "id": "0pV-H97BS-eN"
      }
    },
    {
      "cell_type": "markdown",
      "source": [
        "- Maximum Depth of Binary Tree - https://leetcode.com/problems/maximum-depth-of-binary-tree/\n",
        "- Same Tree - https://leetcode.com/problems/same-tree/\n",
        "- Invert/Flip Binary Tree - https://leetcode.com/problems/invert-binary-tree/\n",
        "- Binary Tree Maximum Path Sum - https://leetcode.com/problems/binary-tree-maximum-path-sum/\n",
        "- Binary Tree Level Order Traversal - https://leetcode.com/problems/binary-tree-level-order-traversal/\n",
        "- Serialize and Deserialize Binary Tree - https://leetcode.com/problems/serialize-and-deserialize-binary-tree/\n",
        "- Subtree of Another Tree - https://leetcode.com/problems/subtree-of-another-tree/\n",
        "- Construct Binary Tree from Preorder and Inorder Traversal - https://leetcode.com/problems/construct-binary-tree-from-preorder-and-inorder-traversal/\n",
        "- Validate Binary Search Tree - https://leetcode.com/problems/validate-binary-search-tree/\n",
        "- Kth Smallest Element in a BST - https://leetcode.com/problems/kth-smallest-element-in-a-bst/\n",
        "- Lowest Common Ancestor of BST - https://leetcode.com/problems/lowest-common-ancestor-of-a-binary-search-tree/\n",
        "- Implement Trie (Prefix Tree) - https://leetcode.com/problems/implement-trie-prefix-tree/\n",
        "- Add and Search Word - https://leetcode.com/problems/add-and-search-word-data-structure-design/\n",
        "- Word Search II - https://leetcode.com/problems/word-search-ii/"
      ],
      "metadata": {
        "id": "J3YgzasLS-wn"
      }
    },
    {
      "cell_type": "markdown",
      "source": [
        "##**Heap**"
      ],
      "metadata": {
        "id": "zlkQnzA7UMS8"
      }
    },
    {
      "cell_type": "markdown",
      "source": [
        "- Merge K Sorted Lists - https://leetcode.com/problems/merge-k-sorted-lists/\n",
        "- Top K Frequent Elements - https://leetcode.com/problems/top-k-frequent-elements/\n",
        "- Find Median from Data Stream - https://leetcode.com/problems/find-median-from-data-stream/"
      ],
      "metadata": {
        "id": "61s6VCkSP5N5"
      }
    }
  ]
}