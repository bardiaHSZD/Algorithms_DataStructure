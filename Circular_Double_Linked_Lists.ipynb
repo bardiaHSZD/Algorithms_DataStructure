{
  "nbformat": 4,
  "nbformat_minor": 0,
  "metadata": {
    "colab": {
      "name": "Circular Double Linked Lists.ipynb",
      "provenance": [],
      "collapsed_sections": [],
      "authorship_tag": "ABX9TyPFz/W3yle5ppHhYJW4XMjW",
      "include_colab_link": true
    },
    "kernelspec": {
      "display_name": "Python 3",
      "name": "python3"
    },
    "language_info": {
      "name": "python"
    }
  },
  "cells": [
    {
      "cell_type": "markdown",
      "metadata": {
        "id": "view-in-github",
        "colab_type": "text"
      },
      "source": [
        "<a href=\"https://colab.research.google.com/github/bardiaHSZD/Algorithms_DataStructure/blob/main/Circular_Double_Linked_Lists.ipynb\" target=\"_parent\"><img src=\"https://colab.research.google.com/assets/colab-badge.svg\" alt=\"Open In Colab\"/></a>"
      ]
    },
    {
      "cell_type": "markdown",
      "metadata": {
        "id": "ygUUhzRsQf_X"
      },
      "source": [
        "# **Circular Double Linked Lists**"
      ]
    },
    {
      "cell_type": "markdown",
      "metadata": {
        "id": "JqO0DttF6vKM"
      },
      "source": [
        "## **Introduction**"
      ]
    },
    {
      "cell_type": "markdown",
      "metadata": {
        "id": "XtoxmghXq80o"
      },
      "source": [
        "## **Examples**"
      ]
    },
    {
      "cell_type": "markdown",
      "metadata": {
        "id": "JrWP8UvZZeMk"
      },
      "source": [
        "### **Creation**"
      ]
    },
    {
      "cell_type": "code",
      "metadata": {
        "id": "4Q6kwBhRtPgd"
      },
      "source": [
        "class Node:\n",
        "  def __init__(self, value):\n",
        "    self.value = value\n",
        "    self.next = None\n",
        "    self.prev = None\n",
        "\n",
        "class cicularDoubleLinkedList:\n",
        "  def __init__(self):\n",
        "    self.head = None\n",
        "    self.tail = None\n",
        "\n",
        "  def __iter__(self):\n",
        "    node = self.head\n",
        "    while node != self.tail:\n",
        "      yield node\n",
        "      node = node.next\n",
        "\n",
        "  def createCircularDoubleLinkedList(self, value):\n",
        "\n",
        "\n",
        "\n"
      ],
      "execution_count": null,
      "outputs": []
    },
    {
      "cell_type": "markdown",
      "metadata": {
        "id": "Xj3NfDqohJua"
      },
      "source": [
        "### **Insertion**"
      ]
    },
    {
      "cell_type": "markdown",
      "metadata": {
        "id": "cJ-yWS8FFry6"
      },
      "source": [
        "### **Traversal**"
      ]
    },
    {
      "cell_type": "markdown",
      "metadata": {
        "id": "07kIoO1VMoPF"
      },
      "source": [
        "### **Finding a Value**"
      ]
    },
    {
      "cell_type": "markdown",
      "metadata": {
        "id": "54GYNMMBRYsG"
      },
      "source": [
        "### **Deleting a Node in Single Linked List**"
      ]
    },
    {
      "cell_type": "markdown",
      "metadata": {
        "id": "VPJa-FU-TofT"
      },
      "source": [
        "### **Deletion of entire linked list**"
      ]
    },
    {
      "cell_type": "markdown",
      "metadata": {
        "id": "fBd4uS2HVQTA"
      },
      "source": [
        "### **Time Complexities**"
      ]
    }
  ]
}