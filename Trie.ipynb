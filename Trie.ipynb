{
  "nbformat": 4,
  "nbformat_minor": 0,
  "metadata": {
    "colab": {
      "name": "Trie.ipynb",
      "provenance": [],
      "collapsed_sections": [],
      "authorship_tag": "ABX9TyPVJ57JVbmYde0uqvpSr/ZM",
      "include_colab_link": true
    },
    "kernelspec": {
      "name": "python3",
      "display_name": "Python 3"
    },
    "language_info": {
      "name": "python"
    }
  },
  "cells": [
    {
      "cell_type": "markdown",
      "metadata": {
        "id": "view-in-github",
        "colab_type": "text"
      },
      "source": [
        "<a href=\"https://colab.research.google.com/github/bardiaHSZD/Algorithms_DataStructure/blob/main/Trie.ipynb\" target=\"_parent\"><img src=\"https://colab.research.google.com/assets/colab-badge.svg\" alt=\"Open In Colab\"/></a>"
      ]
    },
    {
      "cell_type": "markdown",
      "source": [
        "##**Trie**"
      ],
      "metadata": {
        "id": "3oZntgn44_se"
      }
    },
    {
      "cell_type": "markdown",
      "source": [
        "###**1. What is a Trie Why we need it**"
      ],
      "metadata": {
        "id": "GAi5HXp35Vxk"
      }
    },
    {
      "cell_type": "markdown",
      "source": [
        "###**2. Common Operations on Trie (Creation)**"
      ],
      "metadata": {
        "id": "xBhKKIF_5ZU4"
      }
    },
    {
      "cell_type": "markdown",
      "source": [
        "###**3. Insert a string in Trie**"
      ],
      "metadata": {
        "id": "jb8FMulk5cNn"
      }
    },
    {
      "cell_type": "markdown",
      "source": [
        "###**4. Search for a string in Trie**"
      ],
      "metadata": {
        "id": "Tc9hwiKn5i7S"
      }
    },
    {
      "cell_type": "markdown",
      "source": [
        "###**5. Delete a string from Trie**"
      ],
      "metadata": {
        "id": "JEyNmmW75mCn"
      }
    },
    {
      "cell_type": "markdown",
      "source": [
        "###**6. Practical use of Trie**"
      ],
      "metadata": {
        "id": "1F4BX4Iv5rQH"
      }
    }
  ]
}