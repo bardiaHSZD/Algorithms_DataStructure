{
  "nbformat": 4,
  "nbformat_minor": 0,
  "metadata": {
    "colab": {
      "name": "AVL Trees.ipynb",
      "provenance": [],
      "collapsed_sections": [],
      "authorship_tag": "ABX9TyMPITJlM8OgD1U0hP7NzhtO",
      "include_colab_link": true
    },
    "kernelspec": {
      "name": "python3",
      "display_name": "Python 3"
    },
    "language_info": {
      "name": "python"
    }
  },
  "cells": [
    {
      "cell_type": "markdown",
      "metadata": {
        "id": "view-in-github",
        "colab_type": "text"
      },
      "source": [
        "<a href=\"https://colab.research.google.com/github/bardiaHSZD/Algorithms_DataStructure/blob/main/AVL_Trees.ipynb\" target=\"_parent\"><img src=\"https://colab.research.google.com/assets/colab-badge.svg\" alt=\"Open In Colab\"/></a>"
      ]
    },
    {
      "cell_type": "markdown",
      "source": [
        "##**AVL Trees**"
      ],
      "metadata": {
        "id": "3oZntgn44_se"
      }
    },
    {
      "cell_type": "markdown",
      "source": [
        "###**1. What is an AVL Tree**"
      ],
      "metadata": {
        "id": "mezUStXYcG1D"
      }
    },
    {
      "cell_type": "markdown",
      "source": [
        "###**2. Why AVL Tree**"
      ],
      "metadata": {
        "id": "E_V_YwVqcHC2"
      }
    },
    {
      "cell_type": "markdown",
      "source": [
        "###**3. Common Operations on AVL Trees**"
      ],
      "metadata": {
        "id": "pRRcaCzvcHHQ"
      }
    },
    {
      "cell_type": "markdown",
      "source": [
        "###**4. Insert a node in AVL (Left Left Condition)**"
      ],
      "metadata": {
        "id": "jw7bs9VBcHLX"
      }
    },
    {
      "cell_type": "markdown",
      "source": [
        "###**5. Insert a node in AVL (Left Right Condition)**"
      ],
      "metadata": {
        "id": "IjodaikjcHO3"
      }
    },
    {
      "cell_type": "markdown",
      "source": [
        "###**6. Insert a node in AVL (Right Right Condition)**"
      ],
      "metadata": {
        "id": "GrKdCyOIcHSO"
      }
    },
    {
      "cell_type": "markdown",
      "source": [
        "###**7. Insert a node in AVL (Right Left Condition)**"
      ],
      "metadata": {
        "id": "Sn1aiItMcHVU"
      }
    },
    {
      "cell_type": "markdown",
      "source": [
        "###**8. Insert a node in AVL (all together)**"
      ],
      "metadata": {
        "id": "JAHHaCeocHb0"
      }
    },
    {
      "cell_type": "markdown",
      "source": [
        "###**9. Insert a node in AVL (method)**"
      ],
      "metadata": {
        "id": "sJe9vVVUcHko"
      }
    },
    {
      "cell_type": "markdown",
      "source": [
        "###**10. Delete a node from AVL (LL, LR, RR, RL)**"
      ],
      "metadata": {
        "id": "2jS9NESCcHuB"
      }
    },
    {
      "cell_type": "markdown",
      "source": [
        "###**11. Delete a node from AVL (all together)**"
      ],
      "metadata": {
        "id": "xnoDNwpCcHya"
      }
    },
    {
      "cell_type": "markdown",
      "source": [
        "###**12. Delete a node from AVL (method)**"
      ],
      "metadata": {
        "id": "_NJ2bCTUcj_c"
      }
    },
    {
      "cell_type": "markdown",
      "source": [
        "###**13. Delete entire AVL**"
      ],
      "metadata": {
        "id": "IYa0ccc3ckCo"
      }
    },
    {
      "cell_type": "code",
      "source": [
        "#   Created by Elshad Karimov on 30/05/2020.\n",
        "#   Copyright © 2020 AppMillers. All rights reserved.\n",
        "\n",
        "\n",
        "class Node:\n",
        "    def __init__(self, value=None):\n",
        "        self.value = value\n",
        "        self.next = None\n",
        "    \n",
        "    def __str__(self):\n",
        "        return str(self.value)\n",
        "\n",
        "class LinkedList:\n",
        "    def __init__(self):\n",
        "        self.head = None\n",
        "        self.tail = None\n",
        "    \n",
        "    \n",
        "\n",
        "class Queue:\n",
        "    def __init__(self):\n",
        "        self.linkedList = LinkedList()\n",
        "    \n",
        "    def __str__(self):\n",
        "        values = [str(x) for x in self.linkedList]\n",
        "        return ' '.join(values)\n",
        "    \n",
        "    def enqueue(self, value):\n",
        "        newNode = Node(value)\n",
        "        if self.linkedList.head == None:\n",
        "            self.linkedList.head = newNode\n",
        "            self.linkedList.tail = newNode\n",
        "        else:\n",
        "            self.linkedList.tail.next = newNode\n",
        "            self.linkedList.tail = newNode\n",
        "    \n",
        "    def isEmpty(self):\n",
        "        if self.linkedList.head == None:\n",
        "            return True\n",
        "        else:\n",
        "            return False\n",
        "    \n",
        "    def dequeue(self):\n",
        "        if self.isEmpty():\n",
        "            return \"There is not any node in the Queue\"\n",
        "        else:\n",
        "            tempNode = self.linkedList.head\n",
        "            if self.linkedList.head == self.linkedList.tail:\n",
        "                self.linkedList.head = None\n",
        "                self.linkedList.tail = None\n",
        "            else:\n",
        "                self.linkedList.head = self.linkedList.head.next\n",
        "            return tempNode\n",
        "    \n",
        "    def peek(self):\n",
        "        if self.isEmpty():\n",
        "            return \"There is not any node in the Queue\"\n",
        "        else:\n",
        "            return self.linkedList.head\n",
        "    \n",
        "    def delete(self):\n",
        "        self.linkedList.head = None\n",
        "        self.linkedList.tail = None\n",
        "\n",
        "\n",
        "\n",
        "\n",
        "# custQueue = Queue()\n",
        "# custQueue.enqueue(1)\n",
        "# custQueue.enqueue(2)\n",
        "# custQueue.enqueue(3)\n",
        "# print(custQueue)\n",
        "# print(custQueue.peek())\n",
        "# print(custQueue)"
      ],
      "metadata": {
        "id": "AmwM78Oecy5X"
      },
      "execution_count": null,
      "outputs": []
    },
    {
      "cell_type": "code",
      "source": [
        "#   Created by Elshad Karimov \n",
        "#   Copyright © 2021 AppMillers. All rights reserved.\n",
        "class AVLNode:\n",
        "    def __init__(self, data):\n",
        "        self.data = data\n",
        "        self.leftChild = None\n",
        "        self.rightChild = None\n",
        "        self.height = 1\n",
        "\n",
        "def preOrderTraversal(rootNode):\n",
        "    if not rootNode:\n",
        "        return\n",
        "    print(rootNode.data)\n",
        "    preOrderTraversal(rootNode.leftChild)\n",
        "    preOrderTraversal(rootNode.rightChild)\n",
        "\n",
        "def inOrderTraversal(rootNode):\n",
        "    if not rootNode:\n",
        "        return\n",
        "    inOrderTraversal(rootNode.leftChild)\n",
        "    print(rootNode.data)\n",
        "    inOrderTraversal(rootNode.rightChild)\n",
        "\n",
        "def postOrderTraversal(rootNode):\n",
        "    if not rootNode:\n",
        "        return\n",
        "    postOrderTraversal(rootNode.leftChild)\n",
        "    postOrderTraversal(rootNode.rightChild)\n",
        "    print(rootNode.data)\n",
        "\n",
        "def levelOrderTraversal(rootNode):\n",
        "    if not rootNode:\n",
        "        return\n",
        "    else:\n",
        "        customQueue = Queue()\n",
        "        customQueue.enqueue(rootNode)\n",
        "        while not(customQueue.isEmpty()):\n",
        "            root = customQueue.dequeue()\n",
        "            print(root.value.data)\n",
        "            if root.value.leftChild is not None:\n",
        "                customQueue.enqueue(root.value.leftChild)\n",
        "            if root.value.rightChild is not None:\n",
        "                customQueue.enqueue(root.value.rightChild)\n",
        "\n",
        "\n",
        "def searchNode(rootNode, nodeValue):\n",
        "    if rootNode.data == nodeValue:\n",
        "        print(\"The value is found\")\n",
        "    elif nodeValue < rootNode.data:\n",
        "        if rootNode.leftChild.data == nodeValue:\n",
        "            print(\"The value is found\")\n",
        "        else:\n",
        "            searchNode(rootNode.leftChild, nodeValue)\n",
        "    else:\n",
        "        if rootNode.rightChild.data == nodeValue:\n",
        "            print(\"The value is found\")\n",
        "        else:\n",
        "            searchNode(rootNode.rightChild, nodeValue)\n",
        "\n",
        "def getHeight(rootNode):\n",
        "    if not rootNode:\n",
        "        return 0\n",
        "    return rootNode.height\n",
        "\n",
        "def rightRotate(disbalanceNode):\n",
        "    newRoot = disbalanceNode.leftChild\n",
        "    disbalanceNode.leftChild = disbalanceNode.leftChild.rightChild\n",
        "    newRoot.rightChild = disbalanceNode\n",
        "    disbalanceNode.height = 1 + max(getHeight(disbalanceNode.leftChild), getHeight(disbalanceNode.rightChild))\n",
        "    newRoot.height = 1 + max(getHeight(newRoot.leftChild), getHeight(newRoot.rightChild))\n",
        "    return newRoot\n",
        "\n",
        "def leftRotate(disbalanceNode):\n",
        "    newRoot = disbalanceNode.rightChild\n",
        "    disbalanceNode.rightChild = disbalanceNode.rightChild.leftChild\n",
        "    newRoot.leftChild = disbalanceNode\n",
        "    disbalanceNode.height = 1 + max(getHeight(disbalanceNode.leftChild), getHeight(disbalanceNode.rightChild))\n",
        "    newRoot.height = 1 + max(getHeight(newRoot.leftChild), getHeight(newRoot.rightChild))\n",
        "    return newRoot\n",
        "\n",
        "def getBalance(rootNode):\n",
        "    if not rootNode:\n",
        "        return 0\n",
        "    return getHeight(rootNode.leftChild) - getHeight(rootNode.rightChild)\n",
        "\n",
        "def insertNode(rootNode, nodeValue):\n",
        "    if not rootNode:\n",
        "        return AVLNode(nodeValue)\n",
        "    elif nodeValue < rootNode.data:\n",
        "        rootNode.leftChild = insertNode(rootNode.leftChild, nodeValue)\n",
        "    else:\n",
        "        rootNode.rightChild = insertNode(rootNode.rightChild, nodeValue)\n",
        "    \n",
        "    rootNode.height = 1 + max(getHeight(rootNode.leftChild), getHeight(rootNode.rightChild))\n",
        "    balance = getBalance(rootNode)\n",
        "    if balance > 1 and nodeValue < rootNode.leftChild.data:\n",
        "        return rightRotate(rootNode)\n",
        "    if balance > 1 and nodeValue > rootNode.leftChild.data:\n",
        "        rootNode.leftChild = leftRotate(rootNode.leftChild)\n",
        "        return rightRotate(rootNode)\n",
        "    if balance < -1 and nodeValue > rootNode.rightChild.data:\n",
        "        return leftRotate(rootNode)\n",
        "    if balance < -1 and nodeValue < rootNode.rightChild.data:\n",
        "        rootNode.rightChild = rightRotate(rootNode.rightChild)\n",
        "        return leftRotate(rootNode)\n",
        "    return rootNode\n",
        "\n",
        "def getMinValueNode(rootNode):\n",
        "    if rootNode is None or rootNode.leftChild is None:\n",
        "        return rootNode\n",
        "    return getMinValueNode(rootNode.leftChild)\n",
        "\n",
        "def deleteNode(rootNode, nodeValue):\n",
        "    if not rootNode:\n",
        "        return rootNode\n",
        "    elif nodeValue < rootNode.data:\n",
        "        rootNode.leftChild = deleteNode(rootNode.leftChild, nodeValue)\n",
        "    elif nodeValue > rootNode.data:\n",
        "        rootNode.rightChild = deleteNode(rootNode.rightChild, nodeValue)\n",
        "    else:\n",
        "        if rootNode.leftChild is None:\n",
        "            temp = rootNode.rightChild\n",
        "            rootNode = None\n",
        "            return temp\n",
        "        elif rootNode.rightChild is None:\n",
        "            temp = rootNode.leftChild\n",
        "            rootNode = None\n",
        "            return temp\n",
        "        temp = getMinValueNode(rootNode.rightChild)\n",
        "        rootNode.data = temp.data\n",
        "        rootNode.rightChild = deleteNode(rootNode.rightChild, temp.data)\n",
        "    balance = getBalance(rootNode)\n",
        "    if balance > 1 and getBalance(rootNode.leftChild) >= 0:\n",
        "        return rightRotate(rootNode)\n",
        "    if balance < -1 and getBalance(rootNode.rightChild) <= 0:\n",
        "        return leftRotate(rootNode)\n",
        "    if balance > 1 and getBalance(rootNode.leftChild) < 0:\n",
        "        rootNode.leftChild = leftRotate(rootNode.leftChild)\n",
        "        return rightRotate(rootNode)\n",
        "    if balance < -1 and getBalance(rootNode.rightChild) > 0:\n",
        "        rootNode.rightChild = rightRotate(rootNode.rightChild)\n",
        "        return leftRotate(rootNode)\n",
        "    \n",
        "    return rootNode\n",
        "\n",
        "def deleteAVL(rootNode):\n",
        "    rootNode.data = None\n",
        "    rootNode.leftChild = None\n",
        "    rootNode.rightChild = None\n",
        "    return \"The AVL has been successfully deleted\"\n",
        "\n",
        "\n",
        "\n",
        "newAVL = AVLNode(5)\n",
        "newAVL = insertNode(newAVL, 10)\n",
        "newAVL = insertNode(newAVL, 15)\n",
        "newAVL = insertNode(newAVL, 20)\n",
        "deleteAVL(newAVL)\n",
        "levelOrderTraversal(newAVL)\n"
      ],
      "metadata": {
        "id": "DvCi5jsHc0TK"
      },
      "execution_count": null,
      "outputs": []
    },
    {
      "cell_type": "markdown",
      "source": [
        "###**14. Time and Space complexity of AVL Tree**"
      ],
      "metadata": {
        "id": "8fp8WYGZctQr"
      }
    }
  ]
}