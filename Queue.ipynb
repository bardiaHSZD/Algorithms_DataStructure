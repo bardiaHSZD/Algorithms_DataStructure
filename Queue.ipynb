{
  "nbformat": 4,
  "nbformat_minor": 0,
  "metadata": {
    "colab": {
      "name": "Queue.ipynb",
      "provenance": [],
      "collapsed_sections": [],
      "authorship_tag": "ABX9TyMuYssECyPHBbjG0dZEBCIU",
      "include_colab_link": true
    },
    "kernelspec": {
      "display_name": "Python 3",
      "name": "python3"
    },
    "language_info": {
      "name": "python"
    }
  },
  "cells": [
    {
      "cell_type": "markdown",
      "metadata": {
        "id": "view-in-github",
        "colab_type": "text"
      },
      "source": [
        "<a href=\"https://colab.research.google.com/github/bardiaHSZD/Algorithms_DataStructure/blob/main/Queue.ipynb\" target=\"_parent\"><img src=\"https://colab.research.google.com/assets/colab-badge.svg\" alt=\"Open In Colab\"/></a>"
      ]
    },
    {
      "cell_type": "markdown",
      "metadata": {
        "id": "ygUUhzRsQf_X"
      },
      "source": [
        "# **Queue**"
      ]
    },
    {
      "cell_type": "markdown",
      "metadata": {
        "id": "JqO0DttF6vKM"
      },
      "source": [
        "## **Introduction**"
      ]
    },
    {
      "cell_type": "markdown",
      "metadata": {
        "id": "XtoxmghXq80o"
      },
      "source": [
        "## **Examples**"
      ]
    },
    {
      "cell_type": "markdown",
      "metadata": {
        "id": "JrWP8UvZZeMk"
      },
      "source": [
        "### **Creation Using List (no size limits)**"
      ]
    },
    {
      "cell_type": "markdown",
      "metadata": {
        "id": "Xj3NfDqohJua"
      },
      "source": [
        "### **Operations Using List - no size limits (enqueue, dequeue, peek)**"
      ]
    },
    {
      "cell_type": "markdown",
      "metadata": {
        "id": "brG-A30oQZBp"
      },
      "source": [
        "### **Circular Queue Using List (Pop/Push/Peek/isEmpty/Delete)**"
      ]
    },
    {
      "cell_type": "markdown",
      "metadata": {
        "id": "cJ-yWS8FFry6"
      },
      "source": [
        "### **Circular Queue Operations Using List - no size limits (enqueue, dequeue, peek)**"
      ]
    },
    {
      "cell_type": "markdown",
      "metadata": {
        "id": "07kIoO1VMoPF"
      },
      "source": [
        "### **Creation Queue Using Linked Lists**"
      ]
    },
    {
      "cell_type": "markdown",
      "metadata": {
        "id": "VPJa-FU-TofT"
      },
      "source": [
        "### **Operations Using Linked Lists (enqueue, dequeue, isEmpty, peek)**"
      ]
    },
    {
      "cell_type": "markdown",
      "metadata": {
        "id": "fBd4uS2HVQTA"
      },
      "source": [
        "### **Time and Space Comlexity Using Linked Lists**"
      ]
    },
    {
      "cell_type": "markdown",
      "metadata": {
        "id": "GjW_0L28u_I7"
      },
      "source": [
        "### **List vs Linked Lis Implementation**"
      ]
    },
    {
      "cell_type": "markdown",
      "metadata": {
        "id": "iT3tRRksvK8L"
      },
      "source": [
        "### **Collection Module**"
      ]
    },
    {
      "cell_type": "markdown",
      "metadata": {
        "id": "9VzOkOR6vR2_"
      },
      "source": [
        "### **Queue Module**"
      ]
    },
    {
      "cell_type": "markdown",
      "metadata": {
        "id": "HaXF_zMBvWZZ"
      },
      "source": [
        "### **Multiprocessor Module**"
      ]
    }
  ]
}