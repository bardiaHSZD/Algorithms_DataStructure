{
  "nbformat": 4,
  "nbformat_minor": 0,
  "metadata": {
    "colab": {
      "name": "Dynamic_Mode_Decomposition.ipynb",
      "provenance": [],
      "collapsed_sections": [],
      "authorship_tag": "ABX9TyMDR3Uts7eiKxwrMhjwTQSR",
      "include_colab_link": true
    },
    "kernelspec": {
      "name": "python3",
      "display_name": "Python 3"
    },
    "language_info": {
      "name": "python"
    }
  },
  "cells": [
    {
      "cell_type": "markdown",
      "metadata": {
        "id": "view-in-github",
        "colab_type": "text"
      },
      "source": [
        "<a href=\"https://colab.research.google.com/github/bardiaHSZD/Algorithms_DataStructure/blob/main/Dynamic_Mode_Decomposition.ipynb\" target=\"_parent\"><img src=\"https://colab.research.google.com/assets/colab-badge.svg\" alt=\"Open In Colab\"/></a>"
      ]
    },
    {
      "cell_type": "markdown",
      "metadata": {
        "id": "r2Z7hfxVcBDA"
      },
      "source": [
        "# **Environment Installation**"
      ]
    },
    {
      "cell_type": "code",
      "metadata": {
        "colab": {
          "base_uri": "https://localhost:8080/"
        },
        "id": "22ZLprVKO9Rd",
        "outputId": "13e64ff1-0cb4-4200-daad-6a7c04538a50"
      },
      "source": [
        "!apt install octave\n",
        "!apt-get update --fix-missing\n",
        "!apt install octave"
      ],
      "execution_count": 43,
      "outputs": [
        {
          "output_type": "stream",
          "text": [
            "Reading package lists... Done\n",
            "Building dependency tree       \n",
            "Reading state information... Done\n",
            "octave is already the newest version (4.2.2-1ubuntu1).\n",
            "0 upgraded, 0 newly installed, 0 to remove and 48 not upgraded.\n",
            "Hit:1 https://cloud.r-project.org/bin/linux/ubuntu bionic-cran40/ InRelease\n",
            "Ign:2 https://developer.download.nvidia.com/compute/cuda/repos/ubuntu1804/x86_64  InRelease\n",
            "Get:3 http://security.ubuntu.com/ubuntu bionic-security InRelease [88.7 kB]\n",
            "Ign:4 https://developer.download.nvidia.com/compute/machine-learning/repos/ubuntu1804/x86_64  InRelease\n",
            "Hit:5 https://developer.download.nvidia.com/compute/cuda/repos/ubuntu1804/x86_64  Release\n",
            "Hit:6 https://developer.download.nvidia.com/compute/machine-learning/repos/ubuntu1804/x86_64  Release\n",
            "Hit:8 http://ppa.launchpad.net/c2d4u.team/c2d4u4.0+/ubuntu bionic InRelease\n",
            "Hit:10 http://ppa.launchpad.net/cran/libgit2/ubuntu bionic InRelease\n",
            "Hit:11 http://archive.ubuntu.com/ubuntu bionic InRelease\n",
            "Get:12 http://archive.ubuntu.com/ubuntu bionic-updates InRelease [88.7 kB]\n",
            "Hit:13 http://ppa.launchpad.net/deadsnakes/ppa/ubuntu bionic InRelease\n",
            "Get:14 http://archive.ubuntu.com/ubuntu bionic-backports InRelease [74.6 kB]\n",
            "Hit:15 http://ppa.launchpad.net/graphics-drivers/ppa/ubuntu bionic InRelease\n",
            "Get:16 http://archive.ubuntu.com/ubuntu bionic-updates/universe amd64 Packages [2,185 kB]\n",
            "Get:17 http://archive.ubuntu.com/ubuntu bionic-updates/main amd64 Packages [2,619 kB]\n",
            "Fetched 5,056 kB in 9s (546 kB/s)\n",
            "Reading package lists... Done\n",
            "Reading package lists... Done\n",
            "Building dependency tree       \n",
            "Reading state information... Done\n",
            "octave is already the newest version (4.2.2-1ubuntu1).\n",
            "0 upgraded, 0 newly installed, 0 to remove and 54 not upgraded.\n"
          ],
          "name": "stdout"
        }
      ]
    },
    {
      "cell_type": "markdown",
      "metadata": {
        "id": "MFCbl39bcIPV"
      },
      "source": [
        "# **Dynamic Mode Decomposition:** Test"
      ]
    },
    {
      "cell_type": "code",
      "metadata": {
        "colab": {
          "base_uri": "https://localhost:8080/"
        },
        "id": "V4q1dtz3Owgz",
        "outputId": "206280a6-2797-426f-e7d7-fed383bfb29b"
      },
      "source": [
        "%%writefile dmd_test_01.m\n",
        "\n",
        "clear all;\n",
        "\n",
        "%Quick Test of DMD with control.\n",
        "\n",
        "%Data collection\n",
        "\n",
        "A = [1.5 0;0 0.1];\n",
        "x0 = [4;7];\n",
        "K = [-1];\n",
        "m = 20;\n",
        "DataX = x0;\n",
        "DataU = [0];\n",
        "\n",
        "B = [1;0];\n",
        "\n",
        "for j = 1 : m \n",
        "   \n",
        "  DataX(:,j+1) = A * (DataX(:,j)) + B.*(K*DataX(:,j));\n",
        "  DataU(:,j) = K .* DataX(1,j);\n",
        "end\n",
        "\n",
        "%Data matrices\n",
        "X   = DataX(:,1:end-1);\n",
        "Xp  = DataX(:,2:end);\n",
        "Ups = DataU;\n",
        "\n",
        "%SVD\n",
        "[U,Sig,V] = svd(X,'econ');\n",
        "\n",
        "thresh = 1e-10;\n",
        "r = length(find(diag(Sig)>thresh));\n",
        "\n",
        "U    = U(:,1:r);\n",
        "Sig  = Sig(1:r,1:r);\n",
        "V    = V(:,1:r);\n",
        "\n",
        "%DMD\n",
        "\n",
        "A_DMD  = Xp*V*inv(Sig)*U'\n",
        "\n",
        "%DMDc - B is known \n",
        "\n",
        "A_DMDc = (Xp - B*Ups)*V*inv(Sig)*U'\n",
        "\n",
        "% Extra\n",
        "[W,D] = eig(A_DMDc);\n",
        "\n",
        "Phi = Xp * V * inv(Sig) * U'*U * W\n",
        "\n",
        "% DMD Spectra\n",
        "t = linspace (0,m,m);\n",
        "dt = t(2) - t(1);\n",
        "lambda = diag(D);\n",
        "omega = log(lambda)/dt;\n",
        "\n",
        "% Compute DMD Solution\n",
        "x0 = [4;7];\n",
        "K = [-1];\n",
        "m = 20;\n",
        "DataXdmd = x0;\n",
        "DataUdmd = [0];\n",
        "\n",
        "B = [1.0;0.0];\n",
        "\n",
        "for j = 1 : m   \n",
        "  DataXdmd(:,j+1) = A_DMDc * (DataXdmd(:,j)) + B.*(K*DataXdmd(:,j));\n",
        "  DataUdmd(:,j) = K .* DataXdmd(1,j);\n",
        "end\n",
        "\n",
        "%Data matrices\n",
        "XDMD   = DataXdmd(:,1:end-1)\n",
        "Ups = DataUdmd;"
      ],
      "execution_count": 56,
      "outputs": [
        {
          "output_type": "stream",
          "text": [
            "Overwriting dmd_test_01.m\n"
          ],
          "name": "stdout"
        }
      ]
    },
    {
      "cell_type": "code",
      "metadata": {
        "colab": {
          "base_uri": "https://localhost:8080/"
        },
        "id": "JPTaiJ-XPZKa",
        "outputId": "10f11be2-f5e2-4182-ad76-0dbe16511c95"
      },
      "source": [
        "!octave dmd_test_01.m # -W : no window system"
      ],
      "execution_count": 58,
      "outputs": [
        {
          "output_type": "stream",
          "text": [
            "octave: X11 DISPLAY environment variable not set\n",
            "octave: disabling GUI features\n",
            "A_DMD =\n",
            "\n",
            "   5.0000e-01  -2.1751e-17\n",
            "  -7.4096e-17   1.0000e-01\n",
            "\n",
            "A_DMDc =\n",
            "\n",
            "   1.5000e+00   2.2711e-16\n",
            "  -7.4096e-17   1.0000e-01\n",
            "\n",
            "Phi =\n",
            "\n",
            "  -0.266675  -0.422947\n",
            "  -0.084589   0.053335\n",
            "\n",
            "XDMD =\n",
            "\n",
            " Columns 1 through 6:\n",
            "\n",
            "   4.0000e+00   2.0000e+00   1.0000e+00   5.0000e-01   2.5000e-01   1.2500e-01\n",
            "   7.0000e+00   7.0000e-01   7.0000e-02   7.0000e-03   7.0000e-04   7.0000e-05\n",
            "\n",
            " Columns 7 through 12:\n",
            "\n",
            "   6.2500e-02   3.1250e-02   1.5625e-02   7.8125e-03   3.9063e-03   1.9531e-03\n",
            "   7.0000e-06   7.0000e-07   7.0000e-08   7.0000e-09   7.0000e-10   7.0000e-11\n",
            "\n",
            " Columns 13 through 18:\n",
            "\n",
            "   9.7656e-04   4.8828e-04   2.4414e-04   1.2207e-04   6.1035e-05   3.0518e-05\n",
            "   7.0000e-12   7.0000e-13   7.0000e-14   7.0000e-15   6.9999e-16   6.9994e-17\n",
            "\n",
            " Columns 19 and 20:\n",
            "\n",
            "   1.5259e-05   7.6294e-06\n",
            "   6.9972e-18   6.9859e-19\n",
            "\n"
          ],
          "name": "stdout"
        }
      ]
    },
    {
      "cell_type": "markdown",
      "metadata": {
        "id": "G7m-p4ndcm_c"
      },
      "source": [
        "# **Dynamic Mode Decomposition:** Algorithm"
      ]
    },
    {
      "cell_type": "code",
      "metadata": {
        "colab": {
          "base_uri": "https://localhost:8080/"
        },
        "id": "xA6dUQvoackY",
        "outputId": "2c09178f-5742-45ad-a08b-3e785afbd360"
      },
      "source": [
        "%%writefile dmd_full.m\n",
        "\n",
        "A = [1.5 0;0 0.1];\n",
        "x0 = [4;7];\n",
        "K = [-1];\n",
        "m = 20;\n",
        "DataX = x0;\n",
        "DataU = [0];\n",
        "\n",
        "B = [1;0];\n",
        "\n",
        "for j = 1 : m \n",
        "   \n",
        "  DataX(:,j+1) = A * (DataX(:,j)) + B.*(K*DataX(:,j));\n",
        "  DataU(:,j) = K .* DataX(1,j);\n",
        "end\n",
        "\n",
        "%Data matrices\n",
        "X   = DataX(:,1:end-1);\n",
        "Xp  = DataX(:,2:end);\n",
        "Ups = DataU;\n",
        "# --------------------------------------------------------\n",
        "#X   = StateData(:,1:end-1);\n",
        "#Xp  = StateData(:,2:end);\n",
        "#Ups = InputData(:,1:end-1);\n",
        "\n",
        "## =======================================================\n",
        "\n",
        "Omega = [X;Ups];\n",
        "\n",
        "[U,Sig,V] = svd(Omega,'econ');\n",
        "\n",
        "thresh = 1e-10;\n",
        "rtil = length(find(diag(Sig)>thresh));\n",
        "\n",
        "Util    = U(:,1:rtil);\n",
        "Sigtil  = Sig(1:rtil,1:rtil);\n",
        "Vtil    = V(:,1:rtil); \n",
        "\n",
        "[U,Sig,V] = svd(Xp,'econ');\n",
        "\n",
        "thresh = 1e-10;\n",
        "r = length(find(diag(Sig)>thresh));\n",
        "\n",
        "Uhat    = U(:,1:r); \n",
        "Sighat  = Sig(1:r,1:r);\n",
        "Vbar    = V(:,1:r); \n",
        "\n",
        "n = size(X,1); \n",
        "q = size(Ups,1);\n",
        "U_1 = Util(1:n,:);\n",
        "U_2 = Util(n+q:n+q,:);\n",
        "\n",
        "approxA = Uhat'*(Xp)*Vtil*inv(Sigtil)*U_1'*Uhat\n",
        "approxB = Uhat'*(Xp)*Vtil*inv(Sigtil)*U_2'\n",
        "\n",
        "[W,D] = eig(approxA);\n",
        "\n",
        "Phi = Xp * Vtil * inv(Sigtil) * U_1'*Uhat * W"
      ],
      "execution_count": 27,
      "outputs": [
        {
          "output_type": "stream",
          "text": [
            "Overwriting dmd_full.m\n"
          ],
          "name": "stdout"
        }
      ]
    },
    {
      "cell_type": "code",
      "metadata": {
        "colab": {
          "base_uri": "https://localhost:8080/"
        },
        "id": "tgTX7-VRc6X5",
        "outputId": "89dd50c3-84c3-4f18-f790-917fa8a094af"
      },
      "source": [
        "!octave dmd_full.m # -W : no window system"
      ],
      "execution_count": 28,
      "outputs": [
        {
          "output_type": "stream",
          "text": [
            "octave: X11 DISPLAY environment variable not set\n",
            "octave: disabling GUI features\n",
            "approxA =\n",
            "\n",
            "   0.239052   0.039018\n",
            "   0.039018   0.110948\n",
            "\n",
            "approxB =\n",
            "\n",
            "   0.240703\n",
            "   0.067541\n",
            "\n",
            "Phi =\n",
            "\n",
            "  -2.5000e-01   2.3699e-17\n",
            "   2.8402e-17   1.0000e-01\n",
            "\n"
          ],
          "name": "stdout"
        }
      ]
    },
    {
      "cell_type": "code",
      "metadata": {
        "colab": {
          "base_uri": "https://localhost:8080/"
        },
        "id": "93w1e-0SemPq",
        "outputId": "4aa686e8-1804-4569-9434-714b01dfef2d"
      },
      "source": [
        "%%writefile dmd_full.m\n",
        "\n",
        "A = [0.239 0.039;0.039 0.11];\n",
        "x0 = [4;7];\n",
        "K = [-1];\n",
        "m = 20;\n",
        "DataX = x0;\n",
        "DataU = [0];\n",
        "\n",
        "B = [0.24;0.067];\n",
        "\n",
        "for j = 1 : m \n",
        "   \n",
        "  DataX(:,j+1) = A * (DataX(:,j)) + B.*(K*DataX(:,j));\n",
        "  DataU(:,j) = K .* DataX(1,j);\n",
        "end\n",
        "\n",
        "%Data matrices\n",
        "X   = DataX(:,1:end-1);\n",
        "Xp  = DataX(:,2:end);\n",
        "Ups = DataU;"
      ],
      "execution_count": 32,
      "outputs": [
        {
          "output_type": "stream",
          "text": [
            "Overwriting dmd_full.m\n"
          ],
          "name": "stdout"
        }
      ]
    },
    {
      "cell_type": "code",
      "metadata": {
        "colab": {
          "base_uri": "https://localhost:8080/"
        },
        "id": "X8z9mz-mfD49",
        "outputId": "aaec19b4-eaa1-4fc8-85dd-a8daf4a37295"
      },
      "source": [
        "!octave dmd_full_test.m # -W : no window system"
      ],
      "execution_count": 33,
      "outputs": [
        {
          "output_type": "stream",
          "text": [
            "octave: X11 DISPLAY environment variable not set\n",
            "octave: disabling GUI features\n",
            "X =\n",
            "\n",
            " Columns 1 through 6:\n",
            "\n",
            "   2.4000e-01  -1.8003e-01   1.3765e-01  -1.0496e-01   8.0059e-02  -6.1064e-02\n",
            "   6.7000e-02   1.6730e-02  -5.1808e-03   4.7986e-03  -3.5654e-03   2.7301e-03\n",
            "\n",
            " Columns 7 through 12:\n",
            "\n",
            "   4.6576e-02  -3.5525e-02   2.7097e-02  -2.0668e-02   1.5764e-02  -1.2024e-02\n",
            "  -2.0812e-03   1.5875e-03  -1.2109e-03   9.2358e-04  -7.0445e-04   5.3732e-04\n",
            "\n",
            " Columns 13 through 18:\n",
            "\n",
            "   9.1713e-03  -6.9953e-03   5.3356e-03  -4.0697e-03   3.1041e-03  -2.3677e-03\n",
            "  -4.0983e-04   3.1260e-04  -2.3843e-04   1.8186e-04  -1.3871e-04   1.0580e-04\n",
            "\n",
            " Columns 19 and 20:\n",
            "\n",
            "   1.8059e-03  -1.3775e-03\n",
            "  -8.0701e-05   6.1554e-05\n",
            "\n"
          ],
          "name": "stdout"
        }
      ]
    }
  ]
}