{
  "nbformat": 4,
  "nbformat_minor": 0,
  "metadata": {
    "colab": {
      "name": "Leetcode Problems Set VI: Trees and Graphs.ipynb",
      "provenance": [],
      "collapsed_sections": [],
      "authorship_tag": "ABX9TyM8YX+YjvQ/IVDXvGR5L9U5",
      "include_colab_link": true
    },
    "kernelspec": {
      "name": "python3",
      "display_name": "Python 3"
    },
    "language_info": {
      "name": "python"
    }
  },
  "cells": [
    {
      "cell_type": "markdown",
      "metadata": {
        "id": "view-in-github",
        "colab_type": "text"
      },
      "source": [
        "<a href=\"https://colab.research.google.com/github/bardiaHSZD/Algorithms_DataStructure/blob/main/Leetcode_Problems_Set_VI_Trees_and_Graphs.ipynb\" target=\"_parent\"><img src=\"https://colab.research.google.com/assets/colab-badge.svg\" alt=\"Open In Colab\"/></a>"
      ]
    },
    {
      "cell_type": "markdown",
      "source": [
        "###**1. Introduction**"
      ],
      "metadata": {
        "id": "IPIkT31olLCH"
      }
    },
    {
      "cell_type": "markdown",
      "source": [
        "###**2. Route Between Nodes**"
      ],
      "metadata": {
        "id": "3kk6E9K1lTkR"
      }
    },
    {
      "cell_type": "markdown",
      "source": [
        "###**3. Solution to Route Between Nodes**"
      ],
      "metadata": {
        "id": "pHXCNEWslTuC"
      }
    },
    {
      "cell_type": "markdown",
      "source": [
        "###**4. Minimal Tree**"
      ],
      "metadata": {
        "id": "_xBDnSL4lTyE"
      }
    },
    {
      "cell_type": "markdown",
      "source": [
        "###**5. Solution to Minimal Tree**"
      ],
      "metadata": {
        "id": "PH1hYHWPlT1T"
      }
    },
    {
      "cell_type": "markdown",
      "source": [
        "###**6. List of Depths**"
      ],
      "metadata": {
        "id": "A6jASpVglT4V"
      }
    },
    {
      "cell_type": "markdown",
      "source": [
        "###**7. Solution to List of Depths**"
      ],
      "metadata": {
        "id": "V0o-hxYhlT7U"
      }
    },
    {
      "cell_type": "markdown",
      "source": [
        "###**8. Check Balanced - LeetCode 110**"
      ],
      "metadata": {
        "id": "BiSjTKQslT_e"
      }
    },
    {
      "cell_type": "markdown",
      "source": [
        "###**9. Solution to Check Balanced**"
      ],
      "metadata": {
        "id": "eRpaYB7z6Rfz"
      }
    },
    {
      "cell_type": "markdown",
      "source": [
        "###**10. Validate BST - LeetCode 98**"
      ],
      "metadata": {
        "id": "kO8NO1vq6SUD"
      }
    },
    {
      "cell_type": "markdown",
      "source": [
        "###**11. Solution to Validate BST - LeetCode 98**"
      ],
      "metadata": {
        "id": "o8Wn-WN-6SXJ"
      }
    },
    {
      "cell_type": "markdown",
      "source": [
        "###**12. In-order Successor in BST - LeetCode 285**"
      ],
      "metadata": {
        "id": "7kdGrWv46SaZ"
      }
    },
    {
      "cell_type": "markdown",
      "source": [
        "###**13. Solution to Successor**"
      ],
      "metadata": {
        "id": "NzooBQY06Sdq"
      }
    },
    {
      "cell_type": "markdown",
      "source": [
        "###**14. Build Order**"
      ],
      "metadata": {
        "id": "9yciEs0d6Sgr"
      }
    },
    {
      "cell_type": "markdown",
      "source": [
        "###**15. Solution to Build Order**"
      ],
      "metadata": {
        "id": "riFb1Yhe6Sjd"
      }
    },
    {
      "cell_type": "markdown",
      "source": [
        "###**16. First Common Ancestor - LeetCode 236**"
      ],
      "metadata": {
        "id": "V-X0sDF06wTr"
      }
    },
    {
      "cell_type": "markdown",
      "source": [
        "###**17. Solution to First Common Ancestor**"
      ],
      "metadata": {
        "id": "nMR9-Z4b60dT"
      }
    }
  ]
}