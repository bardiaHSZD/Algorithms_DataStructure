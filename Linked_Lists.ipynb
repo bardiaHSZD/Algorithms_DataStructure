{
  "nbformat": 4,
  "nbformat_minor": 0,
  "metadata": {
    "colab": {
      "name": "Linked Lists.ipynb",
      "provenance": [],
      "collapsed_sections": [],
      "authorship_tag": "ABX9TyMIrz7YY/sx0T6vVbdbjUaR",
      "include_colab_link": true
    },
    "kernelspec": {
      "name": "python3",
      "display_name": "Python 3"
    },
    "language_info": {
      "name": "python"
    }
  },
  "cells": [
    {
      "cell_type": "markdown",
      "metadata": {
        "id": "view-in-github",
        "colab_type": "text"
      },
      "source": [
        "<a href=\"https://colab.research.google.com/github/bardiaHSZD/Algorithms_DataStructure/blob/main/Linked_Lists.ipynb\" target=\"_parent\"><img src=\"https://colab.research.google.com/assets/colab-badge.svg\" alt=\"Open In Colab\"/></a>"
      ]
    },
    {
      "cell_type": "markdown",
      "metadata": {
        "id": "ygUUhzRsQf_X"
      },
      "source": [
        "# **Linked Lists**"
      ]
    },
    {
      "cell_type": "markdown",
      "metadata": {
        "id": "JqO0DttF6vKM"
      },
      "source": [
        "## **Introduction**"
      ]
    },
    {
      "cell_type": "markdown",
      "metadata": {
        "id": "VeN4Ss56hFdy"
      },
      "source": [
        ""
      ]
    },
    {
      "cell_type": "markdown",
      "metadata": {
        "id": "XtoxmghXq80o"
      },
      "source": [
        "## **Examples**"
      ]
    },
    {
      "cell_type": "markdown",
      "metadata": {
        "id": "Xj3NfDqohJua"
      },
      "source": [
        ""
      ]
    },
    {
      "cell_type": "code",
      "metadata": {
        "id": "ZqwXyP6ghKIL"
      },
      "source": [
        ""
      ],
      "execution_count": null,
      "outputs": []
    },
    {
      "cell_type": "markdown",
      "metadata": {
        "id": "qgTi8kADcs3-"
      },
      "source": [
        "# **Interview Questions**"
      ]
    }
  ]
}